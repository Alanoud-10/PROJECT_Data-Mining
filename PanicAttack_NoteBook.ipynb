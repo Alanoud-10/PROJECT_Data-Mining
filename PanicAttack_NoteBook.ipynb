{
  "nbformat": 4,
  "nbformat_minor": 0,
  "metadata": {
    "colab": {
      "provenance": [],
      "authorship_tag": "ABX9TyNmYjbH+2nz6WuzpaDNkt66",
      "include_colab_link": true
    },
    "kernelspec": {
      "name": "python3",
      "display_name": "Python 3"
    },
    "language_info": {
      "name": "python"
    }
  },
  "cells": [
    {
      "cell_type": "markdown",
      "metadata": {
        "id": "view-in-github",
        "colab_type": "text"
      },
      "source": [
        "<a href=\"https://colab.research.google.com/github/Alanoud-10/PROJECT_Data-Mining/blob/main/PanicAttack_NoteBook.ipynb\" target=\"_parent\"><img src=\"https://colab.research.google.com/assets/colab-badge.svg\" alt=\"Open In Colab\"/></a>"
      ]
    },
    {
      "cell_type": "code",
      "source": [
        "import kagglehub\n",
        "import pandas as pd\n",
        "import os\n",
        "\n",
        "# Download the latest version of the dataset\n",
        "path = kagglehub.dataset_download(\"ashaychoudhary/panic-attack-dataset\")\n",
        "\n",
        "# Print the path to the downloaded files\n",
        "print(\"Path to dataset files:\", path)\n",
        "\n",
        "# Check the files inside the downloaded folder\n",
        "print(\"Files in the downloaded directory:\", os.listdir(path))\n",
        "\n",
        "# Adjust the path to the correct CSV file based on the output\n",
        "dataset_path = os.path.join(path, 'panic_attack_dataset.csv')  # Correct file name based on your output\n",
        "\n",
        "# Load the dataset\n",
        "try:\n",
        "    data = pd.read_csv(dataset_path)\n",
        "    # Display column names to identify the correct label\n",
        "    print(\"Column names in the dataset:\", data.columns)\n",
        "\n",
        "    # Function to display dataset description\n",
        "    def describe_dataset():\n",
        "        print(\"Goal of Collecting this Dataset:\")\n",
        "        print(\"The goal of this dataset is to analyze panic attack occurrences based on different features. It aims to help identify factors contributing to panic attacks and their triggers.\")\n",
        "\n",
        "        print(\"\\nSource of the Dataset:\")\n",
        "        print(\"Dataset source: https://www.kaggle.com/datasets/ashaychoudhary/panic-attack-dataset\")\n",
        "\n",
        "        print(\"\\nGeneral Information about the Dataset:\")\n",
        "        print(f\"Number of objects (rows): {data.shape[0]}\")\n",
        "        print(f\"Number of attributes (columns): {data.shape[1]}\")\n",
        "\n",
        "        # Displaying the attribute names and data types\n",
        "        print(\"\\nAttributes and their data types:\")\n",
        "        print(data.dtypes)\n",
        "\n",
        "        print(\"\\nClass Name or Labels:\")\n",
        "        # Use the correct class label column name\n",
        "        class_label_column = \"Medical_History\"  # Corrected column name\n",
        "        if class_label_column in data.columns:\n",
        "            print(f\"The class label is: {class_label_column}\")\n",
        "            print(\"The unique values in the class label are:\", data[class_label_column].unique())\n",
        "        else:\n",
        "            print(f\"The column '{class_label_column}' does not exist. Please check the column name.\")\n",
        "\n",
        "    # Call the function to display the description\n",
        "    describe_dataset()\n",
        "except FileNotFoundError:\n",
        "    print(f\"Could not find the dataset at: {dataset_path}. Please check the file name and path.\")\n"
      ],
      "metadata": {
        "colab": {
          "base_uri": "https://localhost:8080/"
        },
        "id": "q8VAzBt7zBSN",
        "outputId": "fdcae895-9c1a-403e-ec68-dc69bda5cc6b"
      },
      "execution_count": null,
      "outputs": [
        {
          "output_type": "stream",
          "name": "stdout",
          "text": [
            "Path to dataset files: /root/.cache/kagglehub/datasets/ashaychoudhary/panic-attack-dataset/versions/1\n",
            "Files in the downloaded directory: ['panic_attack_dataset.csv']\n",
            "Column names in the dataset: Index(['ID', 'Age', 'Gender', 'Panic_Attack_Frequency', 'Duration_Minutes',\n",
            "       'Trigger', 'Heart_Rate', 'Sweating', 'Shortness_of_Breath', 'Dizziness',\n",
            "       'Chest_Pain', 'Trembling', 'Medical_History', 'Medication',\n",
            "       'Caffeine_Intake', 'Exercise_Frequency', 'Sleep_Hours',\n",
            "       'Alcohol_Consumption', 'Smoking', 'Therapy', 'Panic_Score'],\n",
            "      dtype='object')\n",
            "Goal of Collecting this Dataset:\n",
            "The goal of this dataset is to analyze panic attack occurrences based on different features. It aims to help identify factors contributing to panic attacks and their triggers.\n",
            "\n",
            "Source of the Dataset:\n",
            "Dataset source: https://www.kaggle.com/datasets/ashaychoudhary/panic-attack-dataset\n",
            "\n",
            "General Information about the Dataset:\n",
            "Number of objects (rows): 1200\n",
            "Number of attributes (columns): 21\n",
            "\n",
            "Attributes and their data types:\n",
            "ID                          int64\n",
            "Age                         int64\n",
            "Gender                     object\n",
            "Panic_Attack_Frequency      int64\n",
            "Duration_Minutes            int64\n",
            "Trigger                    object\n",
            "Heart_Rate                  int64\n",
            "Sweating                   object\n",
            "Shortness_of_Breath        object\n",
            "Dizziness                  object\n",
            "Chest_Pain                 object\n",
            "Trembling                  object\n",
            "Medical_History            object\n",
            "Medication                 object\n",
            "Caffeine_Intake             int64\n",
            "Exercise_Frequency          int64\n",
            "Sleep_Hours               float64\n",
            "Alcohol_Consumption         int64\n",
            "Smoking                    object\n",
            "Therapy                    object\n",
            "Panic_Score                 int64\n",
            "dtype: object\n",
            "\n",
            "Class Name or Labels:\n",
            "The class label is: Medical_History\n",
            "The unique values in the class label are: ['Anxiety' 'PTSD' 'Depression' nan]\n"
          ]
        }
      ]
    }
  ]
}